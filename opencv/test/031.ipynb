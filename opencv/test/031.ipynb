{
 "cells": [
  {
   "cell_type": "code",
   "execution_count": 1,
   "metadata": {},
   "outputs": [],
   "source": [
    "import cv2 as cv\n",
    "import numpy as np"
   ]
  },
  {
   "cell_type": "markdown",
   "metadata": {},
   "source": [
    "+ 什么是色彩空间\n",
    "+ 常见的色彩空间\n",
    "+ 相互转换"
   ]
  },
  {
   "cell_type": "markdown",
   "metadata": {},
   "source": [
    "计算机看到的都是二进制, 怎么用数据变成识别的"
   ]
  },
  {
   "cell_type": "code",
   "execution_count": null,
   "metadata": {},
   "outputs": [],
   "source": [
    "def extrace_object_demo():# 提取视频完整的把视频读取出来\n",
    "    capture = cv.VideoCapture('./figure/video_006.mp4')\n",
    "    while(True):\n",
    "        ret, frame = capture.read()\n",
    "        if ret == False:\n",
    "            break\n",
    "        \n",
    "        hsv = cv.cvtColor(frame, cv.COLOR_BGR2HSV)\n",
    "        lower_hsv = np.array([35, 43, 46])\n",
    "        upper_hsv = np.array([77, 255, 255])\n",
    "        \n",
    "        mask = cv.inRange(hsv,lowerb=lower_hsv,upperb=upper_hsv)\n",
    "        cv.imshow('video', frame)\n",
    "        cv.imshow('mask', mask)\n",
    "        c = cv.waitKey(40)\n",
    "        if c == 27:\n",
    "            break\n",
    "        \n",
    "    "
   ]
  },
  {
   "cell_type": "code",
   "execution_count": null,
   "metadata": {},
   "outputs": [
    {
     "name": "stdout",
     "output_type": "stream",
     "text": [
      "------------Hello Python--------------\n"
     ]
    }
   ],
   "source": [
    "def color_space_demo(image):\n",
    "    gray = cv.cvtColor(image, cv.COLOR_BGR2GRAY)\n",
    "    cv.imshow('gray', gray)\n",
    "    hsv = cv.cvtColor(image, cv.COLOR_BGR2HSV)\n",
    "    cv.imshow('hsv', hsv)\n",
    "    \n",
    "    yuv = cv.cvtColor(image, cv.COLOR_BGR2YUV)\n",
    "    cv.imshow('yuv', yuv)\n",
    "    ycrb = cv.cvtColor(image, cv.COLOR_BGR2YCrCb)\n",
    "    cv.imshow('ycrb', ycrb)\n",
    "\n",
    "print('------------Hello Python--------------')\n",
    "\n",
    "src = cv.imread('./figure/lena1.png') #blue green red\n",
    "cv.namedWindow('input image', cv.WND_PROP_AUTOSIZE)\n",
    "cv.imshow('input image',src)\n",
    "\n",
    "b, g, r = cv.split(src)\n",
    "cv.imshow('blue', b)\n",
    "cv.imshow('green', g)\n",
    "cv.imshow('red', r)\n",
    "\n",
    "src[:,:,2]=0\n",
    "src = cv.merge([b,g,r])\n",
    "cv.imshow('change image',src)\n",
    "\n",
    "cv.waitKey(0)\n",
    "cv.destroyAllWindows()"
   ]
  },
  {
   "cell_type": "code",
   "execution_count": null,
   "metadata": {},
   "outputs": [],
   "source": []
  }
 ],
 "metadata": {
  "kernelspec": {
   "display_name": "Python 3",
   "language": "python",
   "name": "python3"
  },
  "language_info": {
   "codemirror_mode": {
    "name": "ipython",
    "version": 3
   },
   "file_extension": ".py",
   "mimetype": "text/x-python",
   "name": "python",
   "nbconvert_exporter": "python",
   "pygments_lexer": "ipython3",
   "version": "3.6.5"
  }
 },
 "nbformat": 4,
 "nbformat_minor": 2
}
