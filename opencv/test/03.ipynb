{
 "cells": [
  {
   "cell_type": "code",
   "execution_count": 1,
   "metadata": {},
   "outputs": [],
   "source": [
    "import cv2 as cv"
   ]
  },
  {
   "cell_type": "code",
   "execution_count": 2,
   "metadata": {},
   "outputs": [],
   "source": [
    "import numpy as np"
   ]
  },
  {
   "cell_type": "code",
   "execution_count": 3,
   "metadata": {},
   "outputs": [],
   "source": [
    "def access_pixels(image):\n",
    "    print(image.shape)\n",
    "    height = image.shape[0] # 高\n",
    "    width = image.shape[1] # 宽\n",
    "    channels = image.shape[2]  # 通道\n",
    "    \n",
    "    print('width:%s geight:%s channels:%s'%(width,height,channels))\n",
    "    for row in range(height):\n",
    "        for col in range(width):\n",
    "            for c in range(channels):\n",
    "                pv = image[row, col, c]\n",
    "                image[row, col, c] = 255 - pv\n",
    "    cv.imshow('pixel_demo', image)\n",
    "    "
   ]
  },
  {
   "cell_type": "code",
   "execution_count": null,
   "metadata": {},
   "outputs": [],
   "source": [
    "# 创建许多新的图像\n",
    "\n",
    "def creat_image():\n",
    "    '''\n",
    "    img = np.zeros([400, 400,3],np.uint8)\n",
    "    img[:, :, 1] = np.ones([400, 400])*255\n",
    "    cv.imshow('new image', img)\n",
    "\n",
    "   \n",
    "    \n",
    "    img = np.zeros([400,400, 1],np.uint8)\n",
    "    img[:,:,0]= np.ones([400,400])*127\n",
    "    cv.imshow('new singe chennels image', img)\n",
    "    cv.imwrite('./figure/myfigure.png',img)\n",
    "    '''\n",
    "    \n",
    "    m1 = np.ones([3,3],np.float32)\n",
    "    m1.fill(122.38)\n",
    "    print(m1)\n",
    "    \n",
    "    \n",
    "    \n",
    "def inverse(image):\n",
    "    dst = cv.bitwise_not(image)\n",
    "    cv.imshow('inverse image', dst)\n",
    "    \n",
    "    "
   ]
  },
  {
   "cell_type": "code",
   "execution_count": null,
   "metadata": {},
   "outputs": [
    {
     "name": "stdout",
     "output_type": "stream",
     "text": [
      "------------Hello Python--------------\n",
      "time :84.71011200000001 ms\n"
     ]
    }
   ],
   "source": [
    "print('------------Hello Python--------------')\n",
    "\n",
    "src = cv.imread('./figure/lena1.png') #blue green red\n",
    "cv.namedWindow('input image', cv.WND_PROP_AUTOSIZE)\n",
    "cv.imshow('input image',src)\n",
    "t1 = cv.getTickCount()\n",
    "inverse(src)\n",
    "#access_pixels(src)\n",
    "t2 = cv.getTickCount()\n",
    "time = (t2-t1)/cv.getTickFrequency()\n",
    "print('time :%s ms'%((time)*1000))\n",
    "cv.waitKey(0)\n",
    "cv.destroyAllWindows()"
   ]
  },
  {
   "cell_type": "code",
   "execution_count": null,
   "metadata": {},
   "outputs": [],
   "source": [
    "# 循环获取每个像素点\n",
    "\n"
   ]
  }
 ],
 "metadata": {
  "kernelspec": {
   "display_name": "Python 3",
   "language": "python",
   "name": "python3"
  },
  "language_info": {
   "codemirror_mode": {
    "name": "ipython",
    "version": 3
   },
   "file_extension": ".py",
   "mimetype": "text/x-python",
   "name": "python",
   "nbconvert_exporter": "python",
   "pygments_lexer": "ipython3",
   "version": "3.6.5"
  }
 },
 "nbformat": 4,
 "nbformat_minor": 2
}
