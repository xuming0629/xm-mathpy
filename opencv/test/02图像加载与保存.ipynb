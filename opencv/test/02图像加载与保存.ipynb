{
 "cells": [
  {
   "cell_type": "code",
   "execution_count": 1,
   "metadata": {},
   "outputs": [],
   "source": [
    "import cv2 as cv"
   ]
  },
  {
   "cell_type": "code",
   "execution_count": null,
   "metadata": {},
   "outputs": [
    {
     "name": "stdout",
     "output_type": "stream",
     "text": [
      "----------Hello Python----------\n"
     ]
    }
   ],
   "source": [
    "print('----------Hello Python----------')\n",
    "src = cv.imread('./figure/lenanoise.png')\n",
    "cv.namedWindow('input image', cv.WINDOW_AUTOSIZE)\n",
    "cv.imshow('input image', src)\n",
    "\n",
    "cv.waitKey(0) # 0 是什么?\n",
    "\n",
    "cv.destroyAllWindows()"
   ]
  },
  {
   "cell_type": "markdown",
   "metadata": {},
   "source": [
    "### 图片的加载与保存"
   ]
  },
  {
   "cell_type": "markdown",
   "metadata": {},
   "source": [
    "+ 什么是图像\n",
    "+ 加载保存"
   ]
  },
  {
   "cell_type": "markdown",
   "metadata": {},
   "source": [
    "图像: 结构化存储的一些数据. 图象 <---> 数据, \n",
    "\n",
    "图像的属性\n",
    "\n",
    "+ 通道数目(RGB)\n",
    "+ 高与宽\n",
    "+ 像素数据\n",
    "+ 位图深度\n",
    "+ 图像类型"
   ]
  },
  {
   "cell_type": "markdown",
   "metadata": {},
   "source": [
    "### 加载显示\n",
    "\n",
    "+ 加载\n",
    "+ 保存"
   ]
  },
  {
   "cell_type": "markdown",
   "metadata": {},
   "source": [
    "+ Opencv Python 中加载图像的模块 API\n",
    "+ 支持常见格式"
   ]
  },
  {
   "cell_type": "code",
   "execution_count": null,
   "metadata": {},
   "outputs": [
    {
     "name": "stdout",
     "output_type": "stream",
     "text": [
      "----------Hello Python----------\n",
      "(512, 512, 3)\n",
      "786432\n",
      "uint8\n"
     ]
    }
   ],
   "source": [
    "import cv2 as cv\n",
    "\n",
    "\n",
    "# 读出图像的属性\n",
    "\n",
    "\n",
    "def get_image2info(image):\n",
    "    print(image.shape)\n",
    "    print(image.size)\n",
    "    print(image.dtype)\n",
    "    \n",
    "    \n",
    "print('----------Hello Python----------')\n",
    "src = cv.imread('./figure/lenanoise.png')\n",
    "cv.namedWindow('input image', cv.WINDOW_AUTOSIZE)\n",
    "cv.imshow('input image', src)\n",
    "\n",
    "\n",
    "get_image2info(src)\n",
    "cv.waitKey(0) # 0 是什么?\n",
    "cv.destroyAllWindows()"
   ]
  },
  {
   "cell_type": "code",
   "execution_count": null,
   "metadata": {},
   "outputs": [],
   "source": [
    "import cv2 as cv"
   ]
  },
  {
   "cell_type": "code",
   "execution_count": null,
   "metadata": {},
   "outputs": [],
   "source": [
    "## 加载一个视频\n",
    "\n",
    "def cideo_demo():\n",
    "    capture = cv.VideoCapture(0)\n",
    "    while(True):\n",
    "        ret, frame = capture.read()\n",
    "        cv.imshow('video', fra)"
   ]
  }
 ],
 "metadata": {
  "kernelspec": {
   "display_name": "Python 3",
   "language": "python",
   "name": "python3"
  },
  "language_info": {
   "codemirror_mode": {
    "name": "ipython",
    "version": 3
   },
   "file_extension": ".py",
   "mimetype": "text/x-python",
   "name": "python",
   "nbconvert_exporter": "python",
   "pygments_lexer": "ipython3",
   "version": "3.6.5"
  }
 },
 "nbformat": 4,
 "nbformat_minor": 2
}
