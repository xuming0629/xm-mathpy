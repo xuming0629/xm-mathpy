{
 "cells": [
  {
   "cell_type": "markdown",
   "metadata": {},
   "source": [
    "## 像素运算\n",
    "\n",
    "+ 图像是多维数组, 输入的图片的大小属性相同, "
   ]
  },
  {
   "cell_type": "markdown",
   "metadata": {},
   "source": [
    "### 算术运算"
   ]
  },
  {
   "cell_type": "markdown",
   "metadata": {},
   "source": [
    "+ 加减乘除\n",
    "+ 应用它-调节亮度\n",
    "+ 调整对比度"
   ]
  },
  {
   "cell_type": "markdown",
   "metadata": {},
   "source": [
    "### 逻辑运算\n",
    "\n",
    "+ 与或非\n",
    "+ 应用遮罩层控制"
   ]
  },
  {
   "cell_type": "markdown",
   "metadata": {},
   "source": [
    "代码层面上的知识\n",
    "+ 常见的图像混合\n",
    "+ 算法运算与几何运算"
   ]
  },
  {
   "cell_type": "code",
   "execution_count": null,
   "metadata": {},
   "outputs": [],
   "source": [
    "# 导入 opencv \n",
    "\n",
    "import cv2 as cv\n",
    "import numpy as np"
   ]
  },
  {
   "cell_type": "code",
   "execution_count": null,
   "metadata": {},
   "outputs": [
    {
     "name": "stdout",
     "output_type": "stream",
     "text": [
      "------------Hello Python--------------\n",
      "(240, 320, 3)\n",
      "(240, 320, 3)\n"
     ]
    }
   ],
   "source": [
    "print('------------Hello Python--------------')\n",
    "\n",
    "src1 = cv.imread('./figure/WindowsLogo.jpg') #blue green red\n",
    "src2 = cv.imread('./figure/LinuxLogo.jpg') \n",
    "print(src1.shape)\n",
    "print(src2.shape)\n",
    "\n",
    "cv.namedWindow('input1 image', cv.WND_PROP_AUTOSIZE)\n",
    "\n",
    "cv.imshow('input1 image',src1)\n",
    "cv.imshow('imput2 image',src2)\n",
    "\n",
    "cv.waitKey(0)\n",
    "cv.destroyAllWindows()"
   ]
  },
  {
   "cell_type": "code",
   "execution_count": null,
   "metadata": {},
   "outputs": [],
   "source": []
  }
 ],
 "metadata": {
  "kernelspec": {
   "display_name": "Python 3",
   "language": "python",
   "name": "python3"
  },
  "language_info": {
   "codemirror_mode": {
    "name": "ipython",
    "version": 3
   },
   "file_extension": ".py",
   "mimetype": "text/x-python",
   "name": "python",
   "nbconvert_exporter": "python",
   "pygments_lexer": "ipython3",
   "version": "3.6.5"
  }
 },
 "nbformat": 4,
 "nbformat_minor": 2
}
