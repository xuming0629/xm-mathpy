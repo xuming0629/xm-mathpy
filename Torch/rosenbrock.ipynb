{
 "cells": [
  {
   "cell_type": "code",
   "execution_count": 7,
   "metadata": {},
   "outputs": [],
   "source": [
    "import time\n",
    "\n",
    "import numpy as np\n",
    "%matplotlib inline\n",
    "import matplotlib.pyplot as plt\n",
    "\n",
    "import torch \n",
    "\n",
    "import torch.optim as optim"
   ]
  },
  {
   "cell_type": "markdown",
   "metadata": {},
   "source": [
    "## Find the Minimizer of Rosenbrock Function\n",
    " $$\n",
    "     F(x_1,x_2):= 100 (x_2-x_1^2)^2 + (x_1-1)^2\n",
    " $$\n",
    " \n",
    " <img\n",
    " src=\"https://upload.wikimedia.org/wikipedia/commons/thumb/3/32/Rosenbrock_function.svg/1080px-Rosenbrock_function.svg.png\"\n",
    " width=\"500\" height=\"500\"\n",
    " align=\"center\"\n",
    " />\n",
    " "
   ]
  },
  {
   "cell_type": "code",
   "execution_count": 8,
   "metadata": {},
   "outputs": [],
   "source": [
    "def rosenbrock(x):\n",
    "    y = 100 * (x[1]-x[0]*x[0])**2 + (x[0]-1)**2\n",
    "    return y"
   ]
  },
  {
   "cell_type": "code",
   "execution_count": 9,
   "metadata": {},
   "outputs": [
    {
     "name": "stdout",
     "output_type": "stream",
     "text": [
      "y =  0.0\n",
      "dy/dx =  tensor([1., 1.])\n"
     ]
    }
   ],
   "source": [
    "x = torch.tensor([1.0,1.0],requires_grad=True)\n",
    "y = rosenbrock(x)\n",
    "y.backward()\n",
    "\n",
    "print('y = ', y.item())\n",
    "print('dy/dx = ',x.data)"
   ]
  },
  {
   "cell_type": "markdown",
   "metadata": {},
   "source": [
    "- Use the optimizer provided by torch.optim to solve the problem"
   ]
  },
  {
   "cell_type": "code",
   "execution_count": 11,
   "metadata": {},
   "outputs": [],
   "source": [
    "x = torch.rand(2,requires_grad=True)\n",
    "\n",
    "optimizer = torch.optim.SGD([x],lr=0.001,momentum=0.9,nesterov=True)"
   ]
  },
  {
   "cell_type": "code",
   "execution_count": null,
   "metadata": {},
   "outputs": [],
   "source": [
    "\n",
    "class Optim(optim.optimizer):\n",
    "    def __init__(self, inputdata,grad):\n",
    "    \n",
    "    \n",
    "    \n",
    "        \n",
    "    def step(self):\n",
    "        \n",
    "        "
   ]
  },
  {
   "cell_type": "code",
   "execution_count": 12,
   "metadata": {},
   "outputs": [],
   "source": [
    "class GD(optim.Optimizer):\n",
    "    def __init__(self, params, lr=1.0, alpha=0.9, eps=1e-6, weight_decay=0):\n",
    "        defaults = dict(lr=lr, alpha=alpha, eps=eps, weight_decay=weight_decay)\n",
    "        super(GD, self).__init__(params, defaults)\n",
    "        \n",
    "        if lr is not required and lr < 0.0:\n",
    "            raise ValueError(\"Invalid learning rate: {}\".format(lr))\n",
    "       \n",
    "    \n",
    "    def step(self, closure=None):\n",
    "        loss = None\n",
    "        if closure is not None:\n",
    "            loss = closure()\n",
    "            \n",
    "        for group in self.param_groups:\n",
    "            weight_decay = group['weight_decay']\n",
    "             \n",
    "            for p in group['params']:\n",
    "                if p.grad is None:\n",
    "                    continue\n",
    "                d_p = p.grad.data\n",
    "                \n",
    "            # set initial\n",
    "            \n",
    "                if weight_decay != 0:\n",
    "                    d_p.add_(weight_decay, p.data)\n",
    "                p.data.add_(-group['lr'], d_p)\n",
    "        return loss"
   ]
  },
  {
   "cell_type": "code",
   "execution_count": 12,
   "metadata": {},
   "outputs": [
    {
     "name": "stdout",
     "output_type": "stream",
     "text": [
      "1, 7.17e+01\n",
      "101, 1.54e-01\n",
      "201, 3.73e-02\n",
      "301, 1.26e-02\n",
      "401, 4.80e-03\n"
     ]
    }
   ],
   "source": [
    "records = []\n",
    "\n",
    "for i in range(500):\n",
    "    optimizer.zero_grad()\n",
    "    y = rosenbrock(x)\n",
    "    y.backward()\n",
    "    optimizer.step()\n",
    "    \n",
    "    if i%100 == 0:\n",
    "        print('%d, %.2e'%(i+1,y.item()))\n",
    "    records.append(y.item())"
   ]
  },
  {
   "cell_type": "code",
   "execution_count": 13,
   "metadata": {},
   "outputs": [
    {
     "data": {
      "image/png": "[encoded data removed]",
      "text/plain": [
       "<Figure size 432x288 with 1 Axes>"
      ]
     },
     "metadata": {},
     "output_type": "display_data"
    }
   ],
   "source": [
    "plt.semilogy(records,'-');"
   ]
  },
  {
   "cell_type": "markdown",
   "metadata": {},
   "source": [
    "- 尝试其它算法"
   ]
  },
  {
   "cell_type": "code",
   "execution_count": null,
   "metadata": {},
   "outputs": [],
   "source": []
  }
 ],
 "metadata": {
  "kernelspec": {
   "display_name": "Python 3",
   "language": "python",
   "name": "python3"
  },
  "language_info": {
   "codemirror_mode": {
    "name": "ipython",
    "version": 3
   },
   "file_extension": ".py",
   "mimetype": "text/x-python",
   "name": "python",
   "nbconvert_exporter": "python",
   "pygments_lexer": "ipython3",
   "version": "3.6.5"
  }
 },
 "nbformat": 4,
 "nbformat_minor": 2
}
