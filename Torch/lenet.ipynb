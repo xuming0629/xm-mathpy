{
 "cells": [
  {
   "cell_type": "code",
   "execution_count": 1,
   "metadata": {},
   "outputs": [],
   "source": [
    "import time\n",
    "\n",
    "import numpy as np\n",
    "%matplotlib inline\n",
    "import matplotlib.pyplot as plt\n",
    "\n",
    "import torch \n",
    "import torch.nn as nn\n",
    "import torch.nn.functional as F\n",
    "\n",
    "import torchvision.datasets as dsets\n",
    "import torchvision.transforms as trans\n",
    "from torch.utils.data import DataLoader"
   ]
  },
  {
   "cell_type": "code",
   "execution_count": 2,
   "metadata": {},
   "outputs": [],
   "source": [
    "train_set = dsets.MNIST(root='data/mnist',\n",
    "                        train=True,\n",
    "                        transform=trans.Compose([trans.Resize(32),\n",
    "                                                 trans.ToTensor()]), \n",
    "                        download=True)\n",
    "test_set = dsets.MNIST(root='data/mnist',\n",
    "                       train=False,\n",
    "                       transform=trans.Compose([trans.Resize(32),\n",
    "                                               trans.ToTensor()]),\n",
    "                       download=True)\n",
    "\n",
    "train_dl = DataLoader(train_set,\n",
    "                      batch_size=100,\n",
    "                      num_workers=6)\n",
    "test_dl = DataLoader(test_set,\n",
    "                     batch_size=100,\n",
    "                     num_workers=6)"
   ]
  },
  {
   "cell_type": "code",
   "execution_count": 3,
   "metadata": {},
   "outputs": [],
   "source": [
    "class LeNet(nn.Module):\n",
    "    def __init__(self):\n",
    "        super(LeNet,self).__init__()\n",
    "        self.conv1 = nn.Conv2d(1,6,5)\n",
    "        self.pool1 = nn.AvgPool2d(2)\n",
    "        self.conv2 = nn.Conv2d(6,16,5)\n",
    "        self.pool2 = nn.AvgPool2d(2)\n",
    "        self.fc1 = nn.Linear(5*5*16,120)\n",
    "        self.fc2 = nn.Linear(120,84)\n",
    "        self.fc3 = nn.Linear(84,10)\n",
    "        \n",
    "    def forward(self,x):\n",
    "        o = self.conv1(x)\n",
    "        o = self.pool1(o)\n",
    "        o = F.relu(o)\n",
    "        \n",
    "        o = self.conv2(o)\n",
    "        o = self.pool2(o)\n",
    "        o = F.relu(o)\n",
    "        \n",
    "        o = o.view(x.size(0),-1)\n",
    "        o = F.relu(self.fc1(o))\n",
    "        o = F.relu(self.fc2(o))\n",
    "        o = F.relu(self.fc3(o))\n",
    "        \n",
    "        return o"
   ]
  },
  {
   "cell_type": "code",
   "execution_count": 4,
   "metadata": {},
   "outputs": [],
   "source": [
    "def train_epoch(model,optimizer,criterion,dataloader,device):\n",
    "    e_total, n_total = 0,0\n",
    "    for batch_x, batch_y in dataloader:\n",
    "        batch_x = batch_x.to(device)\n",
    "        batch_y = batch_y.to(device)\n",
    "        \n",
    "        optimizer.zero_grad()\n",
    "        o = model(batch_x)\n",
    "        e = criterion(o,batch_y)\n",
    "        e.backward()\n",
    "        optimizer.step()\n",
    "        \n",
    "        e_total += e.item()\n",
    "        n_total += 1\n",
    "    return e_total/n_total"
   ]
  },
  {
   "cell_type": "code",
   "execution_count": 5,
   "metadata": {},
   "outputs": [],
   "source": [
    "def eval_accuracy(model,dataloader):\n",
    "    model.eval()\n",
    "    correct = 0\n",
    "    with torch.no_grad():\n",
    "        for batch_x, batch_y in dataloader:\n",
    "            batch_x, batch_y = batch_x.to(device), batch_y.to(device)\n",
    "            batch_o = model(batch_x)\n",
    "            pred = batch_o.max(1, keepdim=True)[1] \n",
    "            correct += pred.eq(batch_y.view_as(pred)).float().mean().item()\n",
    "    return correct*100.0/len(dataloader)"
   ]
  },
  {
   "cell_type": "code",
   "execution_count": 8,
   "metadata": {},
   "outputs": [
    {
     "name": "stdout",
     "output_type": "stream",
     "text": [
      "cpu\n"
     ]
    }
   ],
   "source": [
    "use_cuda = False\n",
    "device = torch.device(\"cuda\" if use_cuda else \"cpu\")\n",
    "\n",
    "print(device)"
   ]
  },
  {
   "cell_type": "code",
   "execution_count": 9,
   "metadata": {},
   "outputs": [],
   "source": [
    "net = LeNet()\n",
    "net = net.to(device)\n",
    "\n",
    "criterion = nn.CrossEntropyLoss()\n",
    "optimizer = torch.optim.SGD(net.parameters(),lr=0.01,momentum=0.9,nesterov=True)"
   ]
  },
  {
   "cell_type": "code",
   "execution_count": 10,
   "metadata": {},
   "outputs": [
    {
     "name": "stdout",
     "output_type": "stream",
     "text": [
      "1/10\t 31 seconds\t train error:1.62e+00\n",
      "2/10\t 29 seconds\t train error:2.06e-01\n",
      "3/10\t 29 seconds\t train error:1.22e-01\n",
      "4/10\t 29 seconds\t train error:8.84e-02\n",
      "5/10\t 29 seconds\t train error:6.91e-02\n",
      "6/10\t 27 seconds\t train error:5.71e-02\n",
      "7/10\t 29 seconds\t train error:4.79e-02\n",
      "8/10\t 27 seconds\t train error:3.98e-02\n",
      "9/10\t 26 seconds\t train error:3.43e-02\n",
      "10/10\t 27 seconds\t train error:2.90e-02\n"
     ]
    }
   ],
   "source": [
    "for epoch in range(10):\n",
    "    time_start = time.time()\n",
    "    train_loss = train_epoch(net,optimizer,criterion,train_dl,device)\n",
    "    print('%d/%d\\t %.0f seconds\\t train error:%.2e'%(epoch+1,10,time.time()-time_start,train_loss))"
   ]
  },
  {
   "cell_type": "code",
   "execution_count": 11,
   "metadata": {},
   "outputs": [
    {
     "data": {
      "text/plain": [
       "97.7600005865097"
      ]
     },
     "execution_count": 11,
     "metadata": {},
     "output_type": "execute_result"
    }
   ],
   "source": [
    "eval_accuracy(net,test_dl)"
   ]
  }
 ],
 "metadata": {
  "kernelspec": {
   "display_name": "Python 3",
   "language": "python",
   "name": "python3"
  },
  "language_info": {
   "codemirror_mode": {
    "name": "ipython",
    "version": 3
   },
   "file_extension": ".py",
   "mimetype": "text/x-python",
   "name": "python",
   "nbconvert_exporter": "python",
   "pygments_lexer": "ipython3",
   "version": "3.6.1"
  }
 },
 "nbformat": 4,
 "nbformat_minor": 2
}
