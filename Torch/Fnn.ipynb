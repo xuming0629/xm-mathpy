{
 "cells": [
  {
   "cell_type": "markdown",
   "metadata": {},
   "source": [
    "### 多层神经网络的手写数字识别模型\n",
    "    \n",
    "+ 模块导入分为 3 个部分:\n",
    "    > numpy, \n",
    "    > pytorch,\n",
    "    > dataset.\n",
    "    \n",
    "+ 加载MNIST数据集"
   ]
  },
  {
   "cell_type": "code",
   "execution_count": 20,
   "metadata": {},
   "outputs": [],
   "source": [
    "# numpy 模块\n",
    "import time\n",
    "import numpy as np\n",
    "%matplotlib inline\n",
    "import matplotlib.pyplot as plt\n",
    "\n",
    "# pytorch 模块\n",
    "import torch\n",
    "import torch.nn as nn\n",
    "import torch.nn.functional as F\n",
    "\n",
    "# 数据集模块\n",
    "import torchvision.datasets as dsets\n",
    "import torchvision.transforms as transforms\n",
    "from torch.utils.data import DataLoader"
   ]
  },
  {
   "cell_type": "code",
   "execution_count": 7,
   "metadata": {},
   "outputs": [
    {
     "name": "stdout",
     "output_type": "stream",
     "text": [
      "Downloading http://yann.lecun.com/exdb/mnist/train-images-idx3-ubyte.gz\n",
      "Downloading http://yann.lecun.com/exdb/mnist/train-labels-idx1-ubyte.gz\n",
      "Downloading http://yann.lecun.com/exdb/mnist/t10k-images-idx3-ubyte.gz\n",
      "Downloading http://yann.lecun.com/exdb/mnist/t10k-labels-idx1-ubyte.gz\n",
      "Processing...\n",
      "Done!\n"
     ]
    }
   ],
   "source": [
    "train_datasets = dsets.MNIST(root='data/mnist',\n",
    "                            train=True,\n",
    "                            transform=transforms.ToTensor(),\n",
    "                            download=True)\n",
    "test_datasets = dsets.MNIST(root='data/mnist',\n",
    "                           train=False,\n",
    "                           transform=transforms.ToTensor(),\n",
    "                           download=True)"
   ]
  },
  {
   "cell_type": "code",
   "execution_count": 8,
   "metadata": {},
   "outputs": [],
   "source": [
    "\n",
    "train_loader = DataLoader(train_datasets,\n",
    "                         batch_size = 100,\n",
    "                         num_workers=6)\n",
    "\n",
    "test_loader = DataLoader(test_datasets,\n",
    "                         batch_size = 100,\n",
    "                         num_workers=6)"
   ]
  },
  {
   "cell_type": "code",
   "execution_count": 21,
   "metadata": {},
   "outputs": [
    {
     "name": "stdout",
     "output_type": "stream",
     "text": [
      "shape of x: torch.Size([60000, 28, 28])\n",
      "labels of x: tensor([5, 0, 4,  ..., 5, 6, 8])\n"
     ]
    },
    {
     "data": {
      "image/png": "[encoded data removed]",
      "text/plain": [
       "<Figure size 1152x144 with 10 Axes>"
      ]
     },
     "metadata": {},
     "output_type": "display_data"
    }
   ],
   "source": [
    "# 测试数据集和打印相关信息\n",
    "x = train_datasets.train_data\n",
    "y = train_datasets.train_labels\n",
    "print('shape of x:', x.shape)\n",
    "print('labels of x:', y)\n",
    "\n",
    "plt.figure(figsize=(16,2))\n",
    "for r in range(10):\n",
    "    plt.subplot(1,10,r+1)\n",
    "    plt.imshow(x[r].numpy())\n",
    "    plt.title('%d'%(y[r]))\n",
    "    plt.axis('off')\n"
   ]
  },
  {
   "cell_type": "code",
   "execution_count": 26,
   "metadata": {},
   "outputs": [],
   "source": [
    "# 建立网络模型\n",
    "# 3层的全连接神经网络模型\n",
    "class Fnn(nn.Module):\n",
    "    def __init__(self):\n",
    "        super(Fnn, self).__init__()\n",
    "        self.fc1 = nn.Linear(784,500)\n",
    "        self.fc2 = nn.Linear(500,300)\n",
    "        self.fc3 = nn.Linear(300,10)\n",
    "       \n",
    "        \n",
    "        \n",
    "    def forward(self,x):\n",
    "        o = x.view(-1,784)\n",
    "        o = self.fc1(o)\n",
    "        o = F.relu(o)\n",
    "        \n",
    "        o = self.fc2(o)\n",
    "        o = F.relu(o)\n",
    "        \n",
    "        o = self.fc3(o)\n",
    "        o = F.relu(o)\n",
    "        return o\n"
   ]
  },
  {
   "cell_type": "code",
   "execution_count": 29,
   "metadata": {},
   "outputs": [
    {
     "name": "stdout",
     "output_type": "stream",
     "text": [
      "0 train loss: 5.04e-01\n",
      "1 train loss: 4.48e-01\n",
      "2 train loss: 4.30e-01\n",
      "3 train loss: 4.19e-01\n",
      "4 train loss: 4.08e-01\n",
      "5 train loss: 3.99e-01\n",
      "6 train loss: 3.94e-01\n",
      "7 train loss: 3.86e-01\n",
      "8 train loss: 3.85e-01\n",
      "9 train loss: 3.80e-01\n",
      "10 train loss: 3.72e-01\n",
      "11 train loss: 3.65e-01\n",
      "12 train loss: 3.59e-01\n",
      "13 train loss: 3.54e-01\n",
      "14 train loss: 1.58e-01\n",
      "15 train loss: 1.41e-01\n",
      "16 train loss: 1.36e-01\n",
      "17 train loss: 1.32e-01\n",
      "18 train loss: 1.29e-01\n",
      "19 train loss: 1.27e-01\n"
     ]
    }
   ],
   "source": [
    "net = Fnn()\n",
    "criterion = nn.CrossEntropyLoss()\n",
    "optimizer = torch.optim.SGD(net.parameters(), lr=0.1)\n",
    "\n",
    "nepochs = 20 # 训练多少次\n",
    "\n",
    "records = []\n",
    "for epoch in range(nepochs):\n",
    "    \n",
    "    for bx, by in train_loader:\n",
    "        optimizer.zero_grad()\n",
    "        o = net(bx)\n",
    "        error = criterion(o,by)\n",
    "        error.backward()\n",
    "        optimizer.step()\n",
    "        \n",
    "        records.append(error.item())\n",
    "    print(epoch,'train loss: %.2e'%(error.item()))"
   ]
  },
  {
   "cell_type": "code",
   "execution_count": 30,
   "metadata": {},
   "outputs": [],
   "source": [
    "def eval_accuracy(net,dataloader):\n",
    "    acc = 0\n",
    "    n_total = 0\n",
    "    for batch_x, batch_y in dataloader:\n",
    "        optimizer.zero_grad()\n",
    "        o = net(batch_x)\n",
    "        _,pred = o.max(dim=1)\n",
    "        acc += (pred==batch_y).float().mean().item()\n",
    "        n_total += 1\n",
    "    return acc/n_total * 100"
   ]
  },
  {
   "cell_type": "code",
   "execution_count": 32,
   "metadata": {},
   "outputs": [
    {
     "name": "stdout",
     "output_type": "stream",
     "text": [
      "test accuracy 97.89000058174133\n"
     ]
    }
   ],
   "source": [
    "print('test accuracy',\n",
    "      eval_accuracy(net,test_loader)\n",
    "    )"
   ]
  },
  {
   "cell_type": "code",
   "execution_count": null,
   "metadata": {},
   "outputs": [],
   "source": []
  }
 ],
 "metadata": {
  "kernelspec": {
   "display_name": "Python 3",
   "language": "python",
   "name": "python3"
  },
  "language_info": {
   "codemirror_mode": {
    "name": "ipython",
    "version": 3
   },
   "file_extension": ".py",
   "mimetype": "text/x-python",
   "name": "python",
   "nbconvert_exporter": "python",
   "pygments_lexer": "ipython3",
   "version": "3.6.5"
  }
 },
 "nbformat": 4,
 "nbformat_minor": 2
}
