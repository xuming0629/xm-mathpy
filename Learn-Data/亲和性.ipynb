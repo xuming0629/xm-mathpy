{
 "cells": [
  {
   "cell_type": "code",
   "execution_count": 1,
   "metadata": {},
   "outputs": [
    {
     "data": {
      "text/plain": [
       "array([[ 0.,  1.,  0.,  0.,  0.],\n",
       "       [ 1.,  1.,  0.,  0.,  0.],\n",
       "       [ 0.,  0.,  1.,  0.,  1.],\n",
       "       [ 1.,  1.,  0.,  0.,  0.],\n",
       "       [ 0.,  0.,  1.,  1.,  1.]])"
      ]
     },
     "execution_count": 1,
     "metadata": {},
     "output_type": "execute_result"
    }
   ],
   "source": [
    "import numpy as np\n",
    "dataset_filename = \"affinity_dataset.txt\"\n",
    "x = np.loadtxt(dataset_filename)\n",
    "x[:5]"
   ]
  },
  {
   "cell_type": "code",
   "execution_count": 6,
   "metadata": {},
   "outputs": [
    {
     "name": "stdout",
     "output_type": "stream",
     "text": [
      "43 people bought Apples, but 27 people also bought bananas\n",
      "------\n",
      "27\n",
      "0.628\n"
     ]
    }
   ],
   "source": [
    "# print x[:5]\n",
    "# 上述代码的结果代表前5次交易中顾客购买了什么。用“1”表示购买，“0”表示没有购买。\n",
    "# 这五种商品分别是：面包，牛奶，奶酪，苹果和香蕉。\n",
    "# 现在我们要找出“如果顾客购买了商品x，那么他们可能愿意购买商品y”的规则（一条规则有前提条件和结论两部分组成）。衡量一个规则的优劣通常有：支持度（指数据集中规则应验的次数）和置信度（指规则准确率如何，计算方法是：规则应验次数除以满足前提条件的所有次数）。\n",
    "\n",
    "# 举个例子计算有多少人购买了苹果。\n",
    "num_apples_purchases = 0\n",
    "for sample in x:\n",
    "    if sample[3] == 1:\n",
    "        num_apples_purchases += 1\n",
    "# print \"{0} people bought Apples\".format(num_apples_purchases)\n",
    "# 接着我们计算有多少人购买了苹果，后又购买了香蕉。同时计算支持度和置信度。\n",
    "num_apples_bananas_purchases = 0\n",
    "for sample in x:\n",
    "    if sample[3] == 1 and sample[4] == 1:\n",
    "        num_apples_bananas_purchases += 1\n",
    "        \n",
    "valid_rules = num_apples_bananas_purchases\n",
    "num_occurances = num_apples_purchases\n",
    "\n",
    "support = valid_rules\n",
    "confidence = valid_rules/float(num_occurances)\n",
    "print (\"{0} people bought Apples, but {1} people also bought bananas\".format(num_apples_purchases, num_apples_bananas_purchases))\n",
    "print (\"------\")\n",
    "# 支持度\n",
    "print (support)\n",
    "# 置信度\n",
    "print (\"{0:.3f}\".format(confidence))"
   ]
  },
  {
   "cell_type": "code",
   "execution_count": 7,
   "metadata": {},
   "outputs": [
    {
     "name": "stdout",
     "output_type": "stream",
     "text": [
      "Rule #1\n",
      "Rule: If a person buys apple they will also buy banana\n",
      "- Support: 27\n",
      "- Confidence: 0.628\n",
      "Rule #2\n",
      "Rule: If a person buys milk they will also buy banana\n",
      "- Support: 27\n",
      "- Confidence: 0.519\n",
      "Rule #3\n",
      "Rule: If a person buys cheese they will also buy apple\n",
      "- Support: 22\n",
      "- Confidence: 0.564\n",
      "Rule #4\n",
      "Rule: If a person buys apple they will also buy cheese\n",
      "- Support: 22\n",
      "- Confidence: 0.512\n",
      "Rule #5\n",
      "Rule: If a person buys cheese they will also buy banana\n",
      "- Support: 20\n",
      "- Confidence: 0.513\n"
     ]
    }
   ],
   "source": [
    "# 我们接着将所有规则下的可能性都统计出来，找出亲和性最高的几个。首先，分为两种：一种是规则应验，一种是规则无效。分别创建字典。字典的键是由条件和结论组成的元组，元组元素为特征在特征列表中的索引值，比如“如果顾客买了苹果，他们也会买香蕉”就用（3，4）表示。这里使用defaultdict，好处是如果查找的键不存在，返回一个默认值。\n",
    "from collections import defaultdict\n",
    "features = [\"bread\", \"milk\", \"cheese\", \"apple\", \"banana\"]\n",
    "valib_rules = defaultdict(int)\n",
    "invalib_rules = defaultdict(int)\n",
    "num_occurances = defaultdict(int)\n",
    "# 依次对样本的每个个体及个体的每个特征值进行处理。第一个特征为规则的前提条件。\n",
    "for sample in x:\n",
    "    for premise in range(4):\n",
    "        if sample[premise] == 0:\n",
    "            continue\n",
    "        num_occurances[premise] += 1\n",
    "        # 比如“顾客买了苹果，他们也买了苹果”，这样的规则是没有意义的。\n",
    "        for conclusion in range(len(features)):\n",
    "            if premise == conclusion:\n",
    "                continue\n",
    "            if sample[conclusion] == 1:\n",
    "                valib_rules[(premise, conclusion)] += 1\n",
    "            else:\n",
    "                invalib_rules[(premise, conclusion)] += 1\n",
    "support = valib_rules\n",
    "confidence = defaultdict(float)\n",
    "'''\n",
    "for premise, conclusion in valib_rules.keys():\n",
    "    rule = (premise, conclusion)\n",
    "    confidence[rule] = valib_rules[rule] / num_occurances[premise]\n",
    "'''\n",
    "# 这样我们就得到了支持度字典和置信度字典。我们再来创建一个函数，以便更加方便查看结果。\n",
    "def print_rule(premise, conclusion, support, confidence, features):\n",
    "    premise_name = features[premise]\n",
    "    conclusion_name = features[conclusion]\n",
    "    confidence[(premise, conclusion)] = valib_rules[(premise, conclusion)] / float(num_occurances[premise])\n",
    "    print (\"Rule: If a person buys {0} they will also buy {1}\".format(premise_name, conclusion_name))\n",
    "    print (\"- Support: {0}\".format(support[(premise, conclusion)]))\n",
    "    print (\"- Confidence: {0:.3f}\".format(confidence[(premise, conclusion)]))\n",
    "if __name__ == \"__main__\":\n",
    "    premise = 1\n",
    "    conclusion = 3\n",
    "    # print print_rule(premise, conclusion, support, confidence, features)\n",
    "\n",
    "# 排序找出最佳的规则。对字典排序：首先字典的items（）函数返回包含字典所有元素的列表，再使用itemgetter（）类作为键，这样就可以对嵌套列表进行排序了。\n",
    "from operator import itemgetter\n",
    "sorted_support = sorted(support.items(), key=itemgetter(1), reverse=True)\n",
    "# 提取支持度最高的5条\n",
    "for index in range(5):\n",
    "    print (\"Rule #{0}\".format(index + 1))\n",
    "    premise, conclusion = sorted_support[index][0]\n",
    "    print_rule(premise, conclusion, support, confidence, features)\n",
    "\n",
    "# 总结亲和性分析，可以清楚的看出哪两种商品一起购买的几率要大些，经理就可以根据这些规则来调整商品摆放的位置，从而为商家带来更大的经济效益。"
   ]
  },
  {
   "cell_type": "code",
   "execution_count": null,
   "metadata": {},
   "outputs": [],
   "source": []
  }
 ],
 "metadata": {
  "kernelspec": {
   "display_name": "Python 3",
   "language": "python",
   "name": "python3"
  },
  "language_info": {
   "codemirror_mode": {
    "name": "ipython",
    "version": 3
   },
   "file_extension": ".py",
   "mimetype": "text/x-python",
   "name": "python",
   "nbconvert_exporter": "python",
   "pygments_lexer": "ipython3",
   "version": "3.6.5"
  }
 },
 "nbformat": 4,
 "nbformat_minor": 2
}
