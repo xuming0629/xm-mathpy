{
 "cells": [
  {
   "cell_type": "markdown",
   "metadata": {},
   "source": [
    "## 题目：\n",
    "\n",
    "给定一个数组 strs，其中的数据都是字符串，给定两个字符串 str1，str2。如果这两个字符串都在 strs数组中，就返回它们之间的最小距离；如果其中任何一个不在里面，则返回 -1；如果两个字符串相等，则返回 0。\n",
    "例如：给定[‘*’,’3’,’*’,’5’,’10’,’9’,’7’,’1’,’*’]，再给定两个字符串’* ‘和’9’，通过函数求得返回值 3。\n",
    "## 分析：\n",
    "有两种方法， \n",
    "\n",
    "方法1：遍历数组 strs，分别记录两个 str1 和 str2 的位置。求得最小的一个距离数字。这样做时间复杂度为 o(n^2)。 \n",
    "\n",
    "方法2： \n",
    "如果查询的次数非常多，为了提高查询的效率，构造Hash表，把每次查询的时间复杂度下降到 o(1)。 \n",
    "Python 的内置 dict 类型就是哈希表，实现方法也是hash 表，其查询的时间复杂度就是 o(1)。哈希表的构造也分很多种： \n",
    "比如，构造 Hash 表，key值是strs中的每一个字符串，value值是一个hash表，里面存放着该字符串到其它字符串的最小距离。 \n",
    "写成代码就是：hash_table = {“*”:{“3”:1, “5”:1, “10”:2, “9”:3, “7”:2, “1”:1}} \n",
    "当然这种方法的空间复杂度是 o(n^2)"
   ]
  },
  {
   "cell_type": "code",
   "execution_count": 1,
   "metadata": {},
   "outputs": [],
   "source": [
    "import numpy as np"
   ]
  },
  {
   "cell_type": "code",
   "execution_count": 31,
   "metadata": {},
   "outputs": [
    {
     "name": "stdout",
     "output_type": "stream",
     "text": [
      "8\n",
      "3\n"
     ]
    }
   ],
   "source": [
    "def min_distance_1(strs,str1,str2):\n",
    "    '''\n",
    "    数组中两个字符串的最小距离,这是方法１,复杂度为o(n^2)\n",
    "    :param strs:给定的数组中存放有多个字符串\n",
    "    :param str1 第一个字符串\n",
    "    :param str2 第二个字符串\n",
    "    :return:如果其中给定的一个字符串不在数组中，返回 -1,否则返回字符串的最小距离\n",
    "    '''\n",
    "    if str1 not in strs or str2 not in strs:\n",
    "        return -1\n",
    "    if str1 == str2:\n",
    "        return 0\n",
    "    dist,min = 1, len(strs)\n",
    "   \n",
    "    pos1,pos2 = 0,len(strs)\n",
    "    print(len(strs))\n",
    "    \n",
    "    for i in range(0,len(strs)):\n",
    "        if str1 == strs[i]:\n",
    "            pos1 = i\n",
    "            \n",
    "            for j in range(0,len(strs)):\n",
    "                if str2 == strs[j]:\n",
    "                    pos2 = j            \n",
    "                dist = abs(pos1-pos2)\n",
    "                \n",
    "                \n",
    "                if dist < min:\n",
    "                    min = dist\n",
    "    return min\n",
    "a =['*','3','5','9','10','7','1','*']\n",
    "b = '*'\n",
    "c = '9'\n",
    "#test= min_distance_1(a,b,c)\n",
    "print(test)\n"
   ]
  },
  {
   "cell_type": "code",
   "execution_count": 39,
   "metadata": {},
   "outputs": [
    {
     "name": "stdout",
     "output_type": "stream",
     "text": [
      "['5', '9', '3', '1', '*', '7', '10']\n",
      "8\n",
      "8\n",
      "8\n",
      "8\n",
      "8\n",
      "8\n",
      "8\n",
      "8\n",
      "8\n",
      "8\n",
      "8\n",
      "8\n",
      "8\n",
      "8\n",
      "8\n",
      "8\n",
      "8\n",
      "8\n",
      "8\n",
      "8\n",
      "8\n",
      "8\n",
      "8\n",
      "8\n",
      "8\n",
      "8\n",
      "8\n",
      "8\n",
      "8\n",
      "8\n",
      "8\n",
      "8\n",
      "8\n",
      "8\n",
      "8\n",
      "8\n",
      "8\n",
      "8\n",
      "8\n",
      "8\n",
      "8\n",
      "8\n",
      "3\n"
     ]
    }
   ],
   "source": [
    "def min_distance_2(strs, str1, str2):\n",
    "        '''\n",
    "        数组中两个字符串的最小距离，这是方法2，如果查询的次数非常多，把每次查询的时间复杂度下降到 o(1)。\n",
    "        Python 的内置 dict 类型就是哈希表，实现方法也是hash 表，其查询的时间复杂度就是 o(1)。哈希表的构造也分很多种：\n",
    "        比如，构造 Hash 表，key值是strs中的每一个字符串，value值是一个hash表，里面存放着该字符串到其它字符串的最小距离。\n",
    "            写成代码就是：hash_table = {\"*\":{\"3\":1, \"5\":1, \"10\":2, \"9\":3, \"7\":2, \"1\":1}}\n",
    "        当然这种方法的空间复杂度是 o(n^2)\n",
    "        :param strs: 给定的数组中存放有多个字符串['*','3','*','5','10','9','7','1','*']\n",
    "        :param str1: 第一个字符串, '*'\n",
    "        :param str2: 第二个字符串, '9'\n",
    "        :return: 如果其中给定的一个字符串不在数组 strs 中，那么返回-1，否则返回两个字符串之间的最小间距\n",
    "        '''\n",
    "        if str1 not in strs or str2 not in strs:\n",
    "            return -1\n",
    "        if str1 == str2:\n",
    "            return 0\n",
    "\n",
    "        def create_hash(strs):  # 创建 hash 的过程并不在查询里\n",
    "            strs_set = list(set(strs))\n",
    "            print(strs_set)\n",
    "            dist_hash = {}\n",
    "            for i in range(0, len(strs_set)):\n",
    "                temp = {}\n",
    "                for j in range(0, len(strs_set)):\n",
    "                    if strs_set[i] != strs_set[j]:\n",
    "                        dist = min_distance_1(strs, strs_set[i], strs_set[j])\n",
    "                        temp[strs_set[j]] = dist\n",
    "                dist_hash[strs_set[i]] = temp\n",
    "            return dist_hash\n",
    "\n",
    "        return create_hash(strs)[str1][str2]\n",
    "            \n",
    "test1= min_distance_2(a,b,c)\n",
    "print(test1)\n",
    "            "
   ]
  },
  {
   "cell_type": "code",
   "execution_count": null,
   "metadata": {},
   "outputs": [],
   "source": []
  },
  {
   "cell_type": "code",
   "execution_count": null,
   "metadata": {},
   "outputs": [],
   "source": []
  },
  {
   "cell_type": "code",
   "execution_count": null,
   "metadata": {},
   "outputs": [],
   "source": []
  },
  {
   "cell_type": "code",
   "execution_count": null,
   "metadata": {},
   "outputs": [],
   "source": []
  }
 ],
 "metadata": {
  "kernelspec": {
   "display_name": "Python 3",
   "language": "python",
   "name": "python3"
  },
  "language_info": {
   "codemirror_mode": {
    "name": "ipython",
    "version": 3
   },
   "file_extension": ".py",
   "mimetype": "text/x-python",
   "name": "python",
   "nbconvert_exporter": "python",
   "pygments_lexer": "ipython3",
   "version": "3.5.2"
  }
 },
 "nbformat": 4,
 "nbformat_minor": 2
}
