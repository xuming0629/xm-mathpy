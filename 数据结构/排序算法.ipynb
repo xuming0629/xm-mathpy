{
 "cells": [
  {
   "cell_type": "markdown",
   "metadata": {},
   "source": [
    "### 插入排序算法"
   ]
  },
  {
   "cell_type": "markdown",
   "metadata": {},
   "source": [
    "1. 首先新建一个空列表，用于保存已排序的有序数列（我们称之为\"有序列表\"）。\n",
    "2. 从原数列中取出一个数，将其插入\"有序列表\"中，使其仍旧保持有序状态。\n",
    "3. 重复2号步骤，直至原数列为空。"
   ]
  },
  {
   "cell_type": "markdown",
   "metadata": {},
   "source": [
    "插入排序的基本操作是将一个数据插入到已经偶爱徐好的有序序列中从二而获得新的下有序序列."
   ]
  },
  {
   "cell_type": "code",
   "execution_count": 9,
   "metadata": {},
   "outputs": [
    {
     "name": "stdout",
     "output_type": "stream",
     "text": [
      "插入排序算法\n",
      "[852, 207, 893, 971, 44, 343, 585, 939, 180, 53]\n",
      "[44, 53, 180, 207, 343, 585, 852, 893, 939, 971]\n"
     ]
    }
   ],
   "source": [
    "# -*-coding:utf-8 -*-\n",
    "\n",
    "import numpy as np\n",
    "\n",
    "# 生成 1-1000 之间无序序列整数数据, \n",
    "\n",
    "def generator():\n",
    "    random_data = []\n",
    "    for i in range(0,10):\n",
    "        random_data.append(np.random.randint(1,1000))\n",
    "    return random_data\n",
    "\n",
    "# 插入排序\n",
    "\n",
    "def insert_sort(data_list):\n",
    "    # 序列长度\n",
    "    length = len(data_list)\n",
    "    for i in range(1,length):\n",
    "        key = data_list[i]\n",
    "        j = i - 1\n",
    "        while j >=0:\n",
    "            if data_list[j] > key:\n",
    "                data_list[j+1] = data_list[j]\n",
    "                data_list[j] = key\n",
    "            j = j-1\n",
    "    return data_list\n",
    "\n",
    "\n",
    "if __name__ == '__main__':\n",
    "    print(\"插入排序算法\")\n",
    "    \n",
    "    # 生成随机无需的数据\n",
    "    random_data = generator()\n",
    "    \n",
    "    # 打印无需的数据\n",
    "    print(random_data)\n",
    "    \n",
    "    # 插入排序\n",
    "    sorted_data = insert_sort(random_data)\n",
    "    \n",
    "    # 打印排序结果\n",
    "    print(sorted_data)\n",
    "    "
   ]
  },
  {
   "cell_type": "markdown",
   "metadata": {},
   "source": [
    "### 冒泡排序"
   ]
  },
  {
   "cell_type": "markdown",
   "metadata": {},
   "source": [
    "冒泡排序的实现算法"
   ]
  },
  {
   "cell_type": "markdown",
   "metadata": {},
   "source": [
    "1. 从列表的第一个数字到倒数第二个数字逐个检查, 若某一位置上的数字大于他的下一位则将它与下一位交换\n",
    "1. 重复 1 的步骤, 直至再也不能交换,\n",
    "冒泡排序的的平均时间复杂度和插入排序相同也是平方积，但冒泡排序是原地排序, 也就是不需要额外的内存空间."
   ]
  },
  {
   "cell_type": "code",
   "execution_count": null,
   "metadata": {},
   "outputs": [],
   "source": []
  }
 ],
 "metadata": {
  "kernelspec": {
   "display_name": "Python 3",
   "language": "python",
   "name": "python3"
  },
  "language_info": {
   "codemirror_mode": {
    "name": "ipython",
    "version": 3
   },
   "file_extension": ".py",
   "mimetype": "text/x-python",
   "name": "python",
   "nbconvert_exporter": "python",
   "pygments_lexer": "ipython3",
   "version": "3.5.2"
  }
 },
 "nbformat": 4,
 "nbformat_minor": 2
}
